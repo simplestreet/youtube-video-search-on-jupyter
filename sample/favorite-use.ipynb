{
 "cells": [
  {
   "cell_type": "markdown",
   "metadata": {},
   "source": [
    "__Import module__"
   ]
  },
  {
   "cell_type": "code",
   "execution_count": null,
   "metadata": {},
   "outputs": [],
   "source": [
    "%run D:\\\\source\\\\youtube-video-search-on-jupyter\\\\youtube-video-search.py"
   ]
  },
  {
   "cell_type": "markdown",
   "metadata": {},
   "source": [
    "__How to use YoutubeVideoSearch.__"
   ]
  },
  {
   "cell_type": "code",
   "execution_count": null,
   "metadata": {},
   "outputs": [],
   "source": [
    "argxs = {\n",
    "    'q' : 'nintendo official',\n",
    "    'order' : 'viewCount',\n",
    "    'maxResults' : '6'\n",
    "}\n",
    "\n",
    "DEVELOPER_KEY = \"YOUR_DEVELOPER_KEY\"\n",
    "\n",
    "yvs = YoutubeVideoSearch(DEVELOPER_KEY)\n",
    "\n",
    "try:\n",
    "    yvs.search(argxs)\n",
    "except HttpError as e:\n",
    "    print (\"An HTTP error %d occurred:\\n%s\" % (e.resp.status, e.content))\n",
    "    raise e\n",
    "else:\n",
    "    print('Search succeded!')"
   ]
  },
  {
   "cell_type": "code",
   "execution_count": null,
   "metadata": {},
   "outputs": [],
   "source": [
    "yvs.showResults()"
   ]
  },
  {
   "cell_type": "markdown",
   "metadata": {},
   "source": [
    "__Append a video to favorite.__"
   ]
  },
  {
   "cell_type": "code",
   "execution_count": null,
   "metadata": {},
   "outputs": [],
   "source": [
    "yvs.appendFavorite(0)"
   ]
  },
  {
   "cell_type": "markdown",
   "metadata": {},
   "source": [
    "__Show favorite you appended.__"
   ]
  },
  {
   "cell_type": "code",
   "execution_count": null,
   "metadata": {},
   "outputs": [],
   "source": [
    "yvs.showFavorite()"
   ]
  },
  {
   "cell_type": "markdown",
   "metadata": {},
   "source": [
    "__Play favorite videos__"
   ]
  },
  {
   "cell_type": "code",
   "execution_count": null,
   "metadata": {},
   "outputs": [],
   "source": [
    "dyvs = DisplayYoutubeVideo(yvs)\n",
    "dyvs.setAutoPlay(True)\n",
    "dyvs.playFavorite()"
   ]
  }
 ],
 "metadata": {
  "kernelspec": {
   "display_name": "Python 3",
   "language": "python",
   "name": "python3"
  },
  "language_info": {
   "codemirror_mode": {
    "name": "ipython",
    "version": 3
   },
   "file_extension": ".py",
   "mimetype": "text/x-python",
   "name": "python",
   "nbconvert_exporter": "python",
   "pygments_lexer": "ipython3",
   "version": "3.7.3"
  }
 },
 "nbformat": 4,
 "nbformat_minor": 2
}
